{
 "cells": [
  {
   "cell_type": "markdown",
   "id": "a0e99b4f-3106-4f9c-a196-f83c92863a2a",
   "metadata": {},
   "source": [
    "### Functions\n",
    "### Easy Questions\n",
    "\n",
    "1. **Function Basics**\n",
    "    \n",
    "    Write a function called `calculate_average` that takes a list of numbers as input and returns their average. If the list is empty, it should return 0."
   ]
  },
  {
   "cell_type": "code",
   "execution_count": 2,
   "id": "95768cd1-622f-4702-89b8-a1816dbefa71",
   "metadata": {},
   "outputs": [
    {
     "name": "stdout",
     "output_type": "stream",
     "text": [
      "12.5\n"
     ]
    }
   ],
   "source": [
    "def calculate_average(a):\n",
    "    if len(a) <= 0:\n",
    "        return 0\n",
    "    else:\n",
    "        avg = sum(a)/len(a)\n",
    "    return avg\n",
    "a = [5, 10, 15, 20]\n",
    "print(calculate_average(a))"
   ]
  },
  {
   "cell_type": "markdown",
   "id": "7bdd05df-4473-4007-a158-c071783116c5",
   "metadata": {},
   "source": [
    "2. **Default Parameters**\n",
    "    \n",
    "    Write a function called `greet_user` that takes a name and a greeting message. The greeting message should default to \"Hello\" if not provided."
   ]
  },
  {
   "cell_type": "code",
   "execution_count": 4,
   "id": "f758e90d-fabd-446c-b98b-6f2ef514f12f",
   "metadata": {},
   "outputs": [
    {
     "name": "stdout",
     "output_type": "stream",
     "text": [
      "Hello Hruthik !\n"
     ]
    }
   ],
   "source": [
    "def greet_user(s):\n",
    "    print(f\"Hello {s} !\")\n",
    "greet_user(\"Hruthik\")"
   ]
  },
  {
   "cell_type": "markdown",
   "id": "da3a5f41-cd46-4484-841a-b1e4844208c4",
   "metadata": {},
   "source": [
    "### Medium Questions\n",
    "Variable Arguments\n",
    "Create a function called calculate_total that calculates the total cost of items with a variable number of prices and an optional discount percentage."
   ]
  },
  {
   "cell_type": "code",
   "execution_count": 6,
   "id": "1199b865-f728-4f15-a84f-439b950e3228",
   "metadata": {},
   "outputs": [
    {
     "name": "stdout",
     "output_type": "stream",
     "text": [
      "54.0\n"
     ]
    }
   ],
   "source": [
    "def calculate_total(a,d):\n",
    "    if d is None:\n",
    "        return sum(a)\n",
    "    else:\n",
    "        dis = (d/100)*sum(a)\n",
    "        tot = sum(a) - dis\n",
    "        return tot\n",
    "a = [10, 20, 30]\n",
    "d = 10\n",
    "print(calculate_total(a,d))"
   ]
  },
  {
   "cell_type": "markdown",
   "id": "3e4a9504-c1e4-4dd8-9e94-43681270f811",
   "metadata": {},
   "source": [
    "2. **Closures**\n",
    "    \n",
    "    Create a function called `create_multiplier` that takes a number and returns a function that multiplies any input by that number."
   ]
  },
  {
   "cell_type": "code",
   "execution_count": 7,
   "id": "c93ff2a6-27cd-4b27-8d43-c76063a0aa32",
   "metadata": {},
   "outputs": [
    {
     "name": "stdout",
     "output_type": "stream",
     "text": [
      "10\n",
      "15\n"
     ]
    }
   ],
   "source": [
    "def create_multiplier(factor):\n",
    "    def multiplier(number):\n",
    "        return number * factor\n",
    "    return multiplier\n",
    "\n",
    "double = create_multiplier(2)\n",
    "triple = create_multiplier(3)\n",
    "\n",
    "print(double(5))\n",
    "print(triple(5))"
   ]
  },
  {
   "cell_type": "markdown",
   "id": "15534f5e-5ab5-43e6-855c-99f084222c86",
   "metadata": {},
   "source": [
    "## Lists\n",
    "\n",
    "### Easy Questions\n",
    "\n",
    "1. **List Operations**\n",
    "    \n",
    "    Write a function called `filter_even_numbers` that takes a list of integers and returns a new list containing only the even numbers."
   ]
  },
  {
   "cell_type": "code",
   "execution_count": 11,
   "id": "5457e4c6-9143-45e3-a2cb-cbfd797f79cb",
   "metadata": {},
   "outputs": [
    {
     "name": "stdout",
     "output_type": "stream",
     "text": [
      "[2, 4, 6]\n"
     ]
    }
   ],
   "source": [
    "def filter_even_numbers(a):\n",
    "    e_list = []\n",
    "    for i in range(len(a)):\n",
    "        if a[i] % 2 == 0:\n",
    "            e_list.append(a[i])\n",
    "    return e_list\n",
    "a = [1,2,3,4,5,6,7]\n",
    "print(filter_even_numbers(a))"
   ]
  },
  {
   "cell_type": "markdown",
   "id": "594082c7-c250-4d56-8045-1e4c84ab9679",
   "metadata": {},
   "source": [
    "2. **List Manipulation**\n",
    "    \n",
    "    Write a function called `merge_sorted_lists` that takes two sorted lists and returns a new sorted list containing all elements from both lists."
   ]
  },
  {
   "cell_type": "code",
   "execution_count": 15,
   "id": "242fb700-9222-422c-8237-cb34e0a06d1a",
   "metadata": {},
   "outputs": [
    {
     "name": "stdout",
     "output_type": "stream",
     "text": [
      "[1, 2, 3, 4, 5, 6]\n"
     ]
    }
   ],
   "source": [
    "def merge_sorted_lists(a,s):\n",
    "    res = sorted(a + s)\n",
    "    return res\n",
    "a = [1, 3, 5]\n",
    "s = [2, 4, 6]\n",
    "print(merge_sorted_lists(a,s))"
   ]
  },
  {
   "cell_type": "markdown",
   "id": "1d3103c1-e30f-42f5-b6e5-19c99a75e3dd",
   "metadata": {},
   "source": [
    "### Medium Questions\n",
    "\n",
    "1. **List Comprehensions**\n",
    "    \n",
    "    Write a function called `generate_matrix` that takes dimensions n and m, and returns an n×m matrix where each element at position (i,j) is calculated as i*j."
   ]
  },
  {
   "cell_type": "code",
   "execution_count": 16,
   "id": "9f16e5ab-75c6-40cc-8446-c8c1e3a90bc6",
   "metadata": {},
   "outputs": [
    {
     "name": "stdout",
     "output_type": "stream",
     "text": [
      "[[0, 0, 0], [0, 1, 2], [0, 2, 4]]\n"
     ]
    }
   ],
   "source": [
    "def generate_matrix(n,m):\n",
    "    matrix = []\n",
    "    for i in range(n):\n",
    "        row = []\n",
    "        for j in range(m):\n",
    "            row.append(i * j)\n",
    "        matrix.append(row)\n",
    "    return matrix\n",
    "print(generate_matrix(3,3))"
   ]
  },
  {
   "cell_type": "markdown",
   "id": "7127fafe-5e44-47a3-bdb1-45026d9d9029",
   "metadata": {},
   "source": [
    "### 2.Nested Lists\n",
    "Write a function called transpose_matrix that takes a matrix (list of lists) and returns its transpose (rows become columns and vice versa)."
   ]
  },
  {
   "cell_type": "code",
   "execution_count": 17,
   "id": "cb55f244-a60e-47b2-8af3-08f3fe0e7af1",
   "metadata": {},
   "outputs": [
    {
     "name": "stdout",
     "output_type": "stream",
     "text": [
      "[[1, 4], [2, 5], [3, 6]]\n"
     ]
    }
   ],
   "source": [
    "def transpose_matrix(matrix):\n",
    "    if not matrix or not matrix[0]:\n",
    "        return []\n",
    "\n",
    "    rows = len(matrix)\n",
    "    cols = len(matrix[0])\n",
    "    transposed = []\n",
    "\n",
    "    for j in range(cols):\n",
    "        new_row = []\n",
    "        for i in range(rows):\n",
    "            new_row.append(matrix[i][j])\n",
    "        transposed.append(new_row)\n",
    "\n",
    "    return transposed\n",
    "\n",
    "matrix = [\n",
    "    [1, 2, 3],\n",
    "    [4, 5, 6]\n",
    "]\n",
    "print(transpose_matrix(matrix))\n"
   ]
  },
  {
   "cell_type": "markdown",
   "id": "2936f833-6cfc-43c5-beea-d9e17894761c",
   "metadata": {},
   "source": [
    "## Tuples\n",
    "\n",
    "### Easy Questions\n",
    "\n",
    "1. **Tuple Basics**\n",
    "    \n",
    "    Write a function called `swap_pairs` that swaps adjacent elements in a tuple. If the tuple has an odd length, the last element should remain in place."
   ]
  },
  {
   "cell_type": "code",
   "execution_count": 18,
   "id": "4bcb986e-dda9-4f13-b202-4b70911eb73a",
   "metadata": {},
   "outputs": [
    {
     "name": "stdout",
     "output_type": "stream",
     "text": [
      "(2, 1, 4, 3)\n"
     ]
    }
   ],
   "source": [
    "def swap_pairs(tup):\n",
    "    res = []\n",
    "    for i in range(0,len(tup) -1, 2):\n",
    "        res.extend((tup[i+1],tup[i]))\n",
    "    if len(tup) % 2 != 0:\n",
    "        res.append(tup[-1])\n",
    "    return tuple(res)\n",
    "\n",
    "print(swap_pairs((1,2,3,4)))\n",
    "        "
   ]
  },
  {
   "cell_type": "markdown",
   "id": "e0b21dea-057c-47f2-b471-5e8d5dc53402",
   "metadata": {},
   "source": [
    "## Medium Questions\n",
    "## Named Tuples\n",
    "Create a named tuple called Student with fields for name, age, and grades (which should be a tuple of numbers). Then write a function called top_student that takes a list of Student tuples and returns the Student with the highest average grade."
   ]
  },
  {
   "cell_type": "code",
   "execution_count": 19,
   "id": "458bce6c-1786-48e4-801a-fd0c0e7d67ac",
   "metadata": {},
   "outputs": [
    {
     "name": "stdout",
     "output_type": "stream",
     "text": [
      "Student(name='Charlie', age=21, grades=(90, 92, 93))\n"
     ]
    }
   ],
   "source": [
    "from collections import namedtuple\n",
    "\n",
    "Student = namedtuple('Student', ['name','age','grades'])\n",
    "\n",
    "def top_student(students):\n",
    "    top = students[0]\n",
    "    top_avg = sum(top.grades) / len(top.grades)\n",
    "\n",
    "    for student in students[1:]:\n",
    "        avg = sum(student.grades) / len(student.grades)\n",
    "        if avg > top_avg:\n",
    "            top = student\n",
    "            top_avg = avg\n",
    "    return top\n",
    "\n",
    "alice = Student(\"Alice\", 20, (85, 90, 95))\n",
    "bob = Student(\"Bob\", 19, (70, 80, 90))\n",
    "charlie = Student(\"Charlie\", 21, (90, 92, 93))\n",
    "\n",
    "print(top_student([alice, bob, charlie]))"
   ]
  },
  {
   "cell_type": "markdown",
   "id": "72425a6e-d5e0-445b-8580-5d7a63a46321",
   "metadata": {},
   "source": [
    "## Dictionaries\n",
    "\n",
    "### Easy Questions\n",
    "\n",
    "1. **Dictionary Basics**\n",
    "    \n",
    "    Write a function called `invert_dictionary` that takes a dictionary and returns a new dictionary where the keys become values and values become keys."
   ]
  },
  {
   "cell_type": "code",
   "execution_count": 21,
   "id": "9ab5fe33-b109-4236-9491-4ff85def2864",
   "metadata": {},
   "outputs": [
    {
     "name": "stdout",
     "output_type": "stream",
     "text": [
      "{1: 'a', 2: 'b', 3: 'c'}\n"
     ]
    }
   ],
   "source": [
    "def invert_dictionary(d):\n",
    "    inverted = {}\n",
    "    for key, value in d.items():\n",
    "        inverted[value] = key\n",
    "    return inverted\n",
    "print(invert_dictionary({\"a\": 1, \"b\": 2, \"c\": 3}))"
   ]
  },
  {
   "cell_type": "markdown",
   "id": "9d50f1b3-e90e-4979-b54a-4419efb7d910",
   "metadata": {},
   "source": [
    "2. **Dictionary Operations**\n",
    "    \n",
    "    Write a function called `merge_dictionaries` that takes two dictionaries and merges them. If a key exists in both dictionaries, the value from the second dictionary should be used."
   ]
  },
  {
   "cell_type": "code",
   "execution_count": 22,
   "id": "a768352e-a523-40b0-8e3d-728781da2d70",
   "metadata": {},
   "outputs": [
    {
     "name": "stdout",
     "output_type": "stream",
     "text": [
      "{'a': 1, 'b': 3, 'c': 4}\n"
     ]
    }
   ],
   "source": [
    "def merge_dictionaries(dict_1,dict_2):\n",
    "    merge = dict_1.copy()\n",
    "    merge.update(dict_2)\n",
    "    return merge\n",
    "dict_1 = {\"a\": 1, \"b\": 2}\n",
    "dict_2 = {\"b\": 3, \"c\": 4}\n",
    "print(merge_dictionaries(dict_1, dict_2))"
   ]
  },
  {
   "cell_type": "markdown",
   "id": "3197d6bc-e2ea-44ef-a887-809989e757f8",
   "metadata": {},
   "source": [
    "## Medium Questions\n",
    "Dictionary Comprehensions\n",
    "Write a function called word_frequencies that takes a string of text and returns a dictionary mapping each word to its frequency (count of occurrences)."
   ]
  },
  {
   "cell_type": "code",
   "execution_count": 24,
   "id": "ff86c23e-8ec8-4605-8049-92f5918a9749",
   "metadata": {},
   "outputs": [
    {
     "name": "stdout",
     "output_type": "stream",
     "text": [
      "{'the': 2, 'quick': 1, 'brown': 1, 'fox': 1, 'jumps': 1, 'over': 1, 'lazy': 1, 'dog': 1}\n"
     ]
    }
   ],
   "source": [
    "def word_frequencies(s):\n",
    "    words = s.split()\n",
    "    freq = {}\n",
    "    for word in words:\n",
    "        if word in freq:\n",
    "            freq[word] += 1\n",
    "        else:\n",
    "            freq[word] = 1\n",
    "    return freq\n",
    "s = \"the quick brown fox jumps over the lazy dog\"\n",
    "print(word_frequencies(s))"
   ]
  },
  {
   "cell_type": "markdown",
   "id": "7d1f1e9d-5948-40ca-b8f4-dcba282cf97a",
   "metadata": {},
   "source": [
    "2. **Nested Dictionaries**\n",
    "    \n",
    "    Create a function called `add_contact` that manages a nested dictionary representing a contact book. The function should add a new contact with details or update an existing contact."
   ]
  },
  {
   "cell_type": "code",
   "execution_count": 26,
   "id": "84aa1cd1-36fa-4374-85af-9ea2f0a8ceb8",
   "metadata": {},
   "outputs": [
    {
     "name": "stdout",
     "output_type": "stream",
     "text": [
      "{'Alice': {'phone': '123-456-7890', 'email': 'alice@example.com', 'address': '123 Main St'}, 'Bob': {'phone': '987-654-3210'}}\n"
     ]
    }
   ],
   "source": [
    "def add_contact(contact_book, name, phone = None, email = None, address = None):\n",
    "    if name not in contact_book:\n",
    "        contact_book[name] = {}\n",
    "    if phone:\n",
    "        contact_book[name]['phone'] = phone\n",
    "    if email:\n",
    "        contact_book[name]['email'] = email\n",
    "    if address:\n",
    "        contact_book[name]['address'] = address\n",
    "    return contact_book\n",
    "contacts = {}\n",
    "\n",
    "add_contact(contacts, \"Alice\", phone=\"123-456-7890\", email=\"alice@example.com\")\n",
    "add_contact(contacts, \"Bob\", phone=\"987-654-3210\")\n",
    "add_contact(contacts, \"Alice\", address=\"123 Main St\")\n",
    "\n",
    "print(contacts)\n",
    "    "
   ]
  },
  {
   "cell_type": "markdown",
   "id": "92bf78c7-1d7f-443f-8586-50f2abea3291",
   "metadata": {},
   "source": [
    "### Hard Questions\n",
    "\n",
    "1. **Dictionary Transformations**\n",
    "    \n",
    "    Create a function called `transform_grades` that takes a dictionary where keys are student names and values are lists of grades. Return a new dictionary where keys are still student names, but values are dictionaries containing: 'average' (the average grade), 'highest' (the highest grade), and 'lowest' (the lowest grade)."
   ]
  },
  {
   "cell_type": "code",
   "execution_count": 2,
   "id": "b5bc4aae-a870-4ad8-93be-9ed50af8630f",
   "metadata": {},
   "outputs": [
    {
     "name": "stdout",
     "output_type": "stream",
     "text": [
      "{'Alice': {'average': 90.0, 'highest': 95, 'lowest': 85}, 'Bob': {'average': 80.0, 'highest': 90, 'lowest': 70}, 'Charlie': {'average': 91.66666666666667, 'highest': 93, 'lowest': 90}}\n"
     ]
    }
   ],
   "source": [
    "def transform_grades(grades_dict):\n",
    "    result = {}\n",
    "    for student, grades in grades_dict.items():\n",
    "        if grades:  # Avoid division by zero\n",
    "            average = sum(grades) / len(grades)\n",
    "            highest = max(grades)\n",
    "            lowest = min(grades)\n",
    "        else:\n",
    "            average = highest = lowest = None\n",
    "        result[student] = {\n",
    "            'average': average,\n",
    "            'highest': highest,\n",
    "            'lowest': lowest\n",
    "        }\n",
    "    return result\n",
    "grades = {\n",
    "    \"Alice\": [85, 90, 95],\n",
    "    \"Bob\": [70, 80, 90],\n",
    "    \"Charlie\": [90, 92, 93]\n",
    "}\n",
    "\n",
    "print(transform_grades(grades))"
   ]
  }
 ],
 "metadata": {
  "kernelspec": {
   "display_name": "Python 3 (ipykernel)",
   "language": "python",
   "name": "python3"
  },
  "language_info": {
   "codemirror_mode": {
    "name": "ipython",
    "version": 3
   },
   "file_extension": ".py",
   "mimetype": "text/x-python",
   "name": "python",
   "nbconvert_exporter": "python",
   "pygments_lexer": "ipython3",
   "version": "3.13.3"
  }
 },
 "nbformat": 4,
 "nbformat_minor": 5
}
