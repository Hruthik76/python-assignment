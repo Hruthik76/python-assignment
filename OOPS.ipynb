{
 "cells": [
  {
   "cell_type": "markdown",
   "id": "6067e9a4-ea92-403b-9e29-4f5eaeace96b",
   "metadata": {},
   "source": [
    "## Object-Oriented Programming\n",
    "\n",
    "### Easy Questions\n",
    "\n",
    "1. **Basic Class Design**\n",
    "    \n",
    "    Create a `Rectangle` class with width and height attributes, and methods to calculate area and perimeter."
   ]
  },
  {
   "cell_type": "code",
   "execution_count": 2,
   "id": "f1b5e25c-8e1a-41bc-8b86-f8101a397350",
   "metadata": {},
   "outputs": [
    {
     "name": "stdout",
     "output_type": "stream",
     "text": [
      "50\n",
      "30\n"
     ]
    }
   ],
   "source": [
    "class Rectangle:\n",
    "    def __init__(self,length,breadth):\n",
    "        self.breadth = breadth\n",
    "        self.length = length\n",
    "\n",
    "    def area(self):\n",
    "        area = self.breadth * self.length\n",
    "        return area\n",
    "    def perimeter(self):\n",
    "        perimeter = 2 * (self.breadth + self.length)\n",
    "        return perimeter\n",
    "rect = Rectangle(5, 10)\n",
    "print(rect.area())  # Should return 50\n",
    "print(rect.perimeter())  # Should return 30"
   ]
  },
  {
   "cell_type": "markdown",
   "id": "da4e3fae-dd8f-4217-b9b8-50604fc9c57f",
   "metadata": {},
   "source": [
    "### 2.Class Methods\n",
    "Create a Counter class that keeps track of a count value. Include methods to increment, decrement, and reset the counter."
   ]
  },
  {
   "cell_type": "code",
   "execution_count": 5,
   "id": "a6418dbd-e25f-4f75-b29a-d2c561fbdea5",
   "metadata": {},
   "outputs": [
    {
     "name": "stdout",
     "output_type": "stream",
     "text": [
      "2\n",
      "1\n",
      "0\n"
     ]
    }
   ],
   "source": [
    "class Counter:\n",
    "    def __init__(self, count=0):\n",
    "        self.count = count\n",
    "\n",
    "    def increment(self):\n",
    "        self.count += 1\n",
    "\n",
    "    def decrement(self):\n",
    "        self.count -= 1  \n",
    "\n",
    "    def reset(self):  \n",
    "        self.count = 0\n",
    "\n",
    "    def get_count(self): \n",
    "        return self.count\n",
    "\n",
    "# Example usage:\n",
    "counter = Counter()  # Default count is 0\n",
    "counter.increment()\n",
    "counter.increment()\n",
    "print(counter.get_count())  # Should return 2\n",
    "counter.decrement()\n",
    "print(counter.get_count())  # Should return 1\n",
    "counter.reset()\n",
    "print(counter.get_count())  # Should return 0"
   ]
  },
  {
   "cell_type": "markdown",
   "id": "fdaec0f7-fca5-4494-9c25-b706afeb7f35",
   "metadata": {},
   "source": [
    "## Medium Questions\n",
    "### Inheritance\n",
    "Create a Vehicle base class with attributes for make, model, and year. Then create a Car subclass that inherits from Vehicle and adds attributes for number of doors and fuel type."
   ]
  },
  {
   "cell_type": "code",
   "execution_count": 6,
   "id": "11457e16-52e0-4d9a-9b6f-4a83bed2766d",
   "metadata": {},
   "outputs": [
    {
     "name": "stdout",
     "output_type": "stream",
     "text": [
      "Toyota\n",
      "4\n"
     ]
    }
   ],
   "source": [
    "class Vehicle:\n",
    "    def __init__(self,make,model,year):\n",
    "        self.make = make\n",
    "        self.model = model\n",
    "        self.year = year\n",
    "class Car(Vehicle):\n",
    "    def __init__(self,make,model,year,doors,fuel_type):\n",
    "        super().__init__(make,model,year)\n",
    "        self.doors = doors\n",
    "        self.fuel_type = fuel_type\n",
    "car = Car(\"Toyota\", \"Corolla\", 2020, 4, \"Gasoline\")\n",
    "print(car.make)  # Should return \"Toyota\"\n",
    "print(car.doors)  # Should return 4"
   ]
  },
  {
   "cell_type": "markdown",
   "id": "982f3383-18e6-4238-9997-b95066b16c8a",
   "metadata": {},
   "source": [
    "2. **Encapsulation**\n",
    "    \n",
    "    Create a `BankAccount` class with private attributes for balance and account number. Include methods for deposit, withdrawal, and checking balance."
   ]
  },
  {
   "cell_type": "code",
   "execution_count": 11,
   "id": "db10d686-336a-49a5-9b60-7f8f25c631ed",
   "metadata": {},
   "outputs": [
    {
     "name": "stdout",
     "output_type": "stream",
     "text": [
      "Deposited: $500\n",
      "Withdrawn: $200\n",
      "1300\n",
      "123456789\n"
     ]
    }
   ],
   "source": [
    "class BankAccount:\n",
    "    def __init__(self, account_number, initial_balance=0):\n",
    "        self.__account_number = account_number\n",
    "        self.__balance = initial_balance\n",
    "\n",
    "    def deposit(self, amount):\n",
    "        if amount > 0:\n",
    "            self.__balance += amount\n",
    "            print(f\"Deposited: ${amount}\")\n",
    "        else:\n",
    "            print(\"Deposit amount must be positive.\")\n",
    "\n",
    "    def withdraw(self, amount):\n",
    "        if amount <= 0:\n",
    "            print(\"Not valid\")\n",
    "        elif amount > self.__balance:\n",
    "            print(\"Insufficient funds.\")\n",
    "        else:\n",
    "            self.__balance -= amount\n",
    "            print(f\"Withdrawn: ${amount}\")\n",
    "\n",
    "    def get_balance(self):\n",
    "        return self.__balance\n",
    "\n",
    "    def get_account_number(self):\n",
    "        return self.__account_number\n",
    "\n",
    "account = BankAccount(\"123456789\", 1000)\n",
    "account.deposit(500)\n",
    "account.withdraw(200)\n",
    "print(account.get_balance())\n",
    "print(account.get_account_number())"
   ]
  }
 ],
 "metadata": {
  "kernelspec": {
   "display_name": "Python 3 (ipykernel)",
   "language": "python",
   "name": "python3"
  },
  "language_info": {
   "codemirror_mode": {
    "name": "ipython",
    "version": 3
   },
   "file_extension": ".py",
   "mimetype": "text/x-python",
   "name": "python",
   "nbconvert_exporter": "python",
   "pygments_lexer": "ipython3",
   "version": "3.13.3"
  }
 },
 "nbformat": 4,
 "nbformat_minor": 5
}
